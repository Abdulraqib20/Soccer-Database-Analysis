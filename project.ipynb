{
 "cells": [
  {
   "cell_type": "markdown",
   "id": "b214c804-d824-42a4-acfd-30891bdb275f",
   "metadata": {
    "tags": []
   },
   "source": [
    "# Project: Soccer Data Analysis\n",
    "\n",
    "## Table of Contents\n",
    "<ul>\n",
    "<li><a href=\"#intro\">Introduction</a></li>\n",
    "<li><a href=\"#wrangling\">Data Wrangling</a></li>\n",
    "<li><a href=\"#eda\">Exploratory Data Analysis</a></li>\n",
    "<li><a href=\"#conclusions\">Conclusions</a></li>    \n",
    "</ul>"
   ]
  },
  {
   "cell_type": "markdown",
   "id": "4dd51721-493e-45c9-a19d-a68e78471b3b",
   "metadata": {
    "tags": []
   },
   "source": [
    "<a id='intro'></a>\n",
    "## Introduction\n",
    "\n",
    "This soccer database comes from Kaggle and is well suited for data analysis and machine learning. It contains data for soccer matches, players, and teams from several European countries from 2008 to 2016.\n",
    "\n",
    "For this project, I firstly cleaned the data(removing null values and duplicate values) in a seperate notebook before importing it to MySQL for joining different columns and tables together including further analysis. After the analysis using SQL, I exported the datasets to `csv` files to use for nalysis in this notebook.\n",
    "\n",
    "In this project, I'll be exploring the various datasets I have created from SQL after I was done with the analysis there."
   ]
  },
  {
   "cell_type": "code",
   "execution_count": 1,
   "id": "99f53679-c3ea-4755-8b06-9dc9b5c98b25",
   "metadata": {},
   "outputs": [],
   "source": [
    "# import libraries and packages\n",
    "import pandas as pd\n",
    "import numpy as np\n",
    "import matplotlib.pyplot as plt\n",
    "import seaborn as sns\n",
    "sns.set_theme(style='white', palette='muted')\n",
    "import warnings\n",
    "warnings.filterwarnings(action='ignore')"
   ]
  },
  {
   "cell_type": "markdown",
   "id": "0ae8563e-c787-4412-9fad-d5e3e857aac5",
   "metadata": {
    "tags": []
   },
   "source": [
    "<a id='wrangling'></a>\n",
    "## Data Wrangling"
   ]
  },
  {
   "cell_type": "markdown",
   "id": "77995573-86ea-4745-933d-77c0318e5595",
   "metadata": {},
   "source": [
    "### Lets explore the matches played over the course of that time(2008-2016)"
   ]
  },
  {
   "cell_type": "code",
   "execution_count": 2,
   "id": "50529740-080b-41eb-9410-cf0ffbb3f25a",
   "metadata": {},
   "outputs": [
    {
     "data": {
      "text/html": [
       "<div>\n",
       "<style scoped>\n",
       "    .dataframe tbody tr th:only-of-type {\n",
       "        vertical-align: middle;\n",
       "    }\n",
       "\n",
       "    .dataframe tbody tr th {\n",
       "        vertical-align: top;\n",
       "    }\n",
       "\n",
       "    .dataframe thead th {\n",
       "        text-align: right;\n",
       "    }\n",
       "</style>\n",
       "<table border=\"1\" class=\"dataframe\">\n",
       "  <thead>\n",
       "    <tr style=\"text-align: right;\">\n",
       "      <th></th>\n",
       "      <th>game_id</th>\n",
       "      <th>country</th>\n",
       "      <th>country_id</th>\n",
       "      <th>league</th>\n",
       "      <th>season</th>\n",
       "      <th>stage</th>\n",
       "      <th>date</th>\n",
       "      <th>home</th>\n",
       "      <th>home_goal</th>\n",
       "      <th>away</th>\n",
       "      <th>away_goal</th>\n",
       "    </tr>\n",
       "  </thead>\n",
       "  <tbody>\n",
       "    <tr>\n",
       "      <th>0</th>\n",
       "      <td>1</td>\n",
       "      <td>Belgium</td>\n",
       "      <td>1</td>\n",
       "      <td>Belgium Jupiler League</td>\n",
       "      <td>2008/2009</td>\n",
       "      <td>1</td>\n",
       "      <td>17/08/2008</td>\n",
       "      <td>KRC Genk</td>\n",
       "      <td>1</td>\n",
       "      <td>Beerschot AC</td>\n",
       "      <td>1</td>\n",
       "    </tr>\n",
       "    <tr>\n",
       "      <th>1</th>\n",
       "      <td>2</td>\n",
       "      <td>Belgium</td>\n",
       "      <td>1</td>\n",
       "      <td>Belgium Jupiler League</td>\n",
       "      <td>2008/2009</td>\n",
       "      <td>1</td>\n",
       "      <td>16/08/2008</td>\n",
       "      <td>SV Zulte-Waregem</td>\n",
       "      <td>0</td>\n",
       "      <td>Sporting Lokeren</td>\n",
       "      <td>0</td>\n",
       "    </tr>\n",
       "    <tr>\n",
       "      <th>2</th>\n",
       "      <td>3</td>\n",
       "      <td>Belgium</td>\n",
       "      <td>1</td>\n",
       "      <td>Belgium Jupiler League</td>\n",
       "      <td>2008/2009</td>\n",
       "      <td>1</td>\n",
       "      <td>16/08/2008</td>\n",
       "      <td>KSV Cercle Brugge</td>\n",
       "      <td>0</td>\n",
       "      <td>RSC Anderlecht</td>\n",
       "      <td>3</td>\n",
       "    </tr>\n",
       "    <tr>\n",
       "      <th>3</th>\n",
       "      <td>4</td>\n",
       "      <td>Belgium</td>\n",
       "      <td>1</td>\n",
       "      <td>Belgium Jupiler League</td>\n",
       "      <td>2008/2009</td>\n",
       "      <td>1</td>\n",
       "      <td>17/08/2008</td>\n",
       "      <td>KAA Gent</td>\n",
       "      <td>5</td>\n",
       "      <td>RAEC Mons</td>\n",
       "      <td>0</td>\n",
       "    </tr>\n",
       "    <tr>\n",
       "      <th>4</th>\n",
       "      <td>5</td>\n",
       "      <td>Belgium</td>\n",
       "      <td>1</td>\n",
       "      <td>Belgium Jupiler League</td>\n",
       "      <td>2008/2009</td>\n",
       "      <td>1</td>\n",
       "      <td>16/08/2008</td>\n",
       "      <td>NaN</td>\n",
       "      <td>1</td>\n",
       "      <td>Standard de Liège</td>\n",
       "      <td>3</td>\n",
       "    </tr>\n",
       "  </tbody>\n",
       "</table>\n",
       "</div>"
      ],
      "text/plain": [
       "   game_id  country  country_id                  league     season  stage  \\\n",
       "0        1  Belgium           1  Belgium Jupiler League  2008/2009      1   \n",
       "1        2  Belgium           1  Belgium Jupiler League  2008/2009      1   \n",
       "2        3  Belgium           1  Belgium Jupiler League  2008/2009      1   \n",
       "3        4  Belgium           1  Belgium Jupiler League  2008/2009      1   \n",
       "4        5  Belgium           1  Belgium Jupiler League  2008/2009      1   \n",
       "\n",
       "         date               home  home_goal               away  away_goal  \n",
       "0  17/08/2008           KRC Genk          1       Beerschot AC          1  \n",
       "1  16/08/2008   SV Zulte-Waregem          0   Sporting Lokeren          0  \n",
       "2  16/08/2008  KSV Cercle Brugge          0     RSC Anderlecht          3  \n",
       "3  17/08/2008           KAA Gent          5          RAEC Mons          0  \n",
       "4  16/08/2008                NaN          1  Standard de Liège          3  "
      ]
     },
     "execution_count": 2,
     "metadata": {},
     "output_type": "execute_result"
    }
   ],
   "source": [
    "matches = pd.read_csv('match_list.csv', names=['game_id', 'country', 'country_id', 'league', 'season', 'stage', \n",
    "                                               'date', 'home', 'home_goal', 'away', 'away_goal'])\n",
    "matches.head()"
   ]
  },
  {
   "cell_type": "markdown",
   "id": "ee5c6e82-f58d-4286-a3b0-8789ce35d276",
   "metadata": {},
   "source": [
    "Now, lets have an overview of the dataset"
   ]
  },
  {
   "cell_type": "code",
   "execution_count": 3,
   "id": "5c1660b2-8dd0-4abc-b651-5e2ab37f84a0",
   "metadata": {},
   "outputs": [
    {
     "name": "stdout",
     "output_type": "stream",
     "text": [
      "(25979, 11)\n",
      "<class 'pandas.core.frame.DataFrame'>\n",
      "RangeIndex: 25979 entries, 0 to 25978\n",
      "Data columns (total 11 columns):\n",
      " #   Column      Non-Null Count  Dtype \n",
      "---  ------      --------------  ----- \n",
      " 0   game_id     25979 non-null  int64 \n",
      " 1   country     25979 non-null  object\n",
      " 2   country_id  25979 non-null  int64 \n",
      " 3   league      25979 non-null  object\n",
      " 4   season      25979 non-null  object\n",
      " 5   stage       25979 non-null  int64 \n",
      " 6   date        25979 non-null  object\n",
      " 7   home        25801 non-null  object\n",
      " 8   home_goal   25979 non-null  int64 \n",
      " 9   away        25801 non-null  object\n",
      " 10  away_goal   25979 non-null  int64 \n",
      "dtypes: int64(5), object(6)\n",
      "memory usage: 2.2+ MB\n"
     ]
    }
   ],
   "source": [
    "print(matches.shape)\n",
    "matches.info()"
   ]
  },
  {
   "cell_type": "code",
   "execution_count": 4,
   "id": "11a9d704-081d-4558-81f1-2820c740b669",
   "metadata": {},
   "outputs": [
    {
     "data": {
      "text/html": [
       "<div>\n",
       "<style scoped>\n",
       "    .dataframe tbody tr th:only-of-type {\n",
       "        vertical-align: middle;\n",
       "    }\n",
       "\n",
       "    .dataframe tbody tr th {\n",
       "        vertical-align: top;\n",
       "    }\n",
       "\n",
       "    .dataframe thead th {\n",
       "        text-align: right;\n",
       "    }\n",
       "</style>\n",
       "<table border=\"1\" class=\"dataframe\">\n",
       "  <thead>\n",
       "    <tr style=\"text-align: right;\">\n",
       "      <th></th>\n",
       "      <th>game_id</th>\n",
       "      <th>country_id</th>\n",
       "      <th>stage</th>\n",
       "      <th>home_goal</th>\n",
       "      <th>away_goal</th>\n",
       "    </tr>\n",
       "  </thead>\n",
       "  <tbody>\n",
       "    <tr>\n",
       "      <th>count</th>\n",
       "      <td>25979.000000</td>\n",
       "      <td>25979.000000</td>\n",
       "      <td>25979.000000</td>\n",
       "      <td>25979.000000</td>\n",
       "      <td>25979.000000</td>\n",
       "    </tr>\n",
       "    <tr>\n",
       "      <th>mean</th>\n",
       "      <td>12990.000000</td>\n",
       "      <td>11738.630317</td>\n",
       "      <td>18.242773</td>\n",
       "      <td>1.544594</td>\n",
       "      <td>1.160938</td>\n",
       "    </tr>\n",
       "    <tr>\n",
       "      <th>std</th>\n",
       "      <td>7499.635658</td>\n",
       "      <td>7553.936759</td>\n",
       "      <td>10.407354</td>\n",
       "      <td>1.297158</td>\n",
       "      <td>1.142110</td>\n",
       "    </tr>\n",
       "    <tr>\n",
       "      <th>min</th>\n",
       "      <td>1.000000</td>\n",
       "      <td>1.000000</td>\n",
       "      <td>1.000000</td>\n",
       "      <td>0.000000</td>\n",
       "      <td>0.000000</td>\n",
       "    </tr>\n",
       "    <tr>\n",
       "      <th>25%</th>\n",
       "      <td>6495.500000</td>\n",
       "      <td>4769.000000</td>\n",
       "      <td>9.000000</td>\n",
       "      <td>1.000000</td>\n",
       "      <td>0.000000</td>\n",
       "    </tr>\n",
       "    <tr>\n",
       "      <th>50%</th>\n",
       "      <td>12990.000000</td>\n",
       "      <td>10257.000000</td>\n",
       "      <td>18.000000</td>\n",
       "      <td>1.000000</td>\n",
       "      <td>1.000000</td>\n",
       "    </tr>\n",
       "    <tr>\n",
       "      <th>75%</th>\n",
       "      <td>19484.500000</td>\n",
       "      <td>17642.000000</td>\n",
       "      <td>27.000000</td>\n",
       "      <td>2.000000</td>\n",
       "      <td>2.000000</td>\n",
       "    </tr>\n",
       "    <tr>\n",
       "      <th>max</th>\n",
       "      <td>25979.000000</td>\n",
       "      <td>24558.000000</td>\n",
       "      <td>38.000000</td>\n",
       "      <td>10.000000</td>\n",
       "      <td>9.000000</td>\n",
       "    </tr>\n",
       "  </tbody>\n",
       "</table>\n",
       "</div>"
      ],
      "text/plain": [
       "            game_id    country_id         stage     home_goal     away_goal\n",
       "count  25979.000000  25979.000000  25979.000000  25979.000000  25979.000000\n",
       "mean   12990.000000  11738.630317     18.242773      1.544594      1.160938\n",
       "std     7499.635658   7553.936759     10.407354      1.297158      1.142110\n",
       "min        1.000000      1.000000      1.000000      0.000000      0.000000\n",
       "25%     6495.500000   4769.000000      9.000000      1.000000      0.000000\n",
       "50%    12990.000000  10257.000000     18.000000      1.000000      1.000000\n",
       "75%    19484.500000  17642.000000     27.000000      2.000000      2.000000\n",
       "max    25979.000000  24558.000000     38.000000     10.000000      9.000000"
      ]
     },
     "execution_count": 4,
     "metadata": {},
     "output_type": "execute_result"
    }
   ],
   "source": [
    "matches.describe()"
   ]
  },
  {
   "cell_type": "code",
   "execution_count": 5,
   "id": "71a57e7c-3cff-4426-9ae5-f525428c1a9e",
   "metadata": {},
   "outputs": [
    {
     "name": "stdout",
     "output_type": "stream",
     "text": [
      "checking for null values\n"
     ]
    },
    {
     "data": {
      "text/html": [
       "<div>\n",
       "<style scoped>\n",
       "    .dataframe tbody tr th:only-of-type {\n",
       "        vertical-align: middle;\n",
       "    }\n",
       "\n",
       "    .dataframe tbody tr th {\n",
       "        vertical-align: top;\n",
       "    }\n",
       "\n",
       "    .dataframe thead th {\n",
       "        text-align: right;\n",
       "    }\n",
       "</style>\n",
       "<table border=\"1\" class=\"dataframe\">\n",
       "  <thead>\n",
       "    <tr style=\"text-align: right;\">\n",
       "      <th></th>\n",
       "      <th>Total</th>\n",
       "      <th>%</th>\n",
       "    </tr>\n",
       "  </thead>\n",
       "  <tbody>\n",
       "    <tr>\n",
       "      <th>home</th>\n",
       "      <td>178</td>\n",
       "      <td>0.7</td>\n",
       "    </tr>\n",
       "    <tr>\n",
       "      <th>away</th>\n",
       "      <td>178</td>\n",
       "      <td>0.7</td>\n",
       "    </tr>\n",
       "    <tr>\n",
       "      <th>game_id</th>\n",
       "      <td>0</td>\n",
       "      <td>0.0</td>\n",
       "    </tr>\n",
       "    <tr>\n",
       "      <th>country</th>\n",
       "      <td>0</td>\n",
       "      <td>0.0</td>\n",
       "    </tr>\n",
       "    <tr>\n",
       "      <th>country_id</th>\n",
       "      <td>0</td>\n",
       "      <td>0.0</td>\n",
       "    </tr>\n",
       "    <tr>\n",
       "      <th>league</th>\n",
       "      <td>0</td>\n",
       "      <td>0.0</td>\n",
       "    </tr>\n",
       "    <tr>\n",
       "      <th>season</th>\n",
       "      <td>0</td>\n",
       "      <td>0.0</td>\n",
       "    </tr>\n",
       "    <tr>\n",
       "      <th>stage</th>\n",
       "      <td>0</td>\n",
       "      <td>0.0</td>\n",
       "    </tr>\n",
       "    <tr>\n",
       "      <th>date</th>\n",
       "      <td>0</td>\n",
       "      <td>0.0</td>\n",
       "    </tr>\n",
       "    <tr>\n",
       "      <th>home_goal</th>\n",
       "      <td>0</td>\n",
       "      <td>0.0</td>\n",
       "    </tr>\n",
       "    <tr>\n",
       "      <th>away_goal</th>\n",
       "      <td>0</td>\n",
       "      <td>0.0</td>\n",
       "    </tr>\n",
       "  </tbody>\n",
       "</table>\n",
       "</div>"
      ],
      "text/plain": [
       "            Total    %\n",
       "home          178  0.7\n",
       "away          178  0.7\n",
       "game_id         0  0.0\n",
       "country         0  0.0\n",
       "country_id      0  0.0\n",
       "league          0  0.0\n",
       "season          0  0.0\n",
       "stage           0  0.0\n",
       "date            0  0.0\n",
       "home_goal       0  0.0\n",
       "away_goal       0  0.0"
      ]
     },
     "execution_count": 5,
     "metadata": {},
     "output_type": "execute_result"
    }
   ],
   "source": [
    "# checking for nulls in the dataset\n",
    "print('checking for null values')\n",
    "null = matches.isnull().sum().sort_values(ascending=False)\n",
    "n1 = matches.isnull().sum()/matches.isnull().count()*100\n",
    "n2 = (np.round(n1, 1)).sort_values(ascending=False)\n",
    "missing_val = pd.concat([null, n2], axis=1, keys=['Total', '%'])\n",
    "missing_val"
   ]
  },
  {
   "cell_type": "markdown",
   "id": "721a751d-5008-44bd-b0c7-8873b97cb1bc",
   "metadata": {},
   "source": [
    "I'll be dropping the null values"
   ]
  },
  {
   "cell_type": "code",
   "execution_count": 6,
   "id": "90dcdaa2-2ab9-4e1f-b8f0-f3eea0dffd2f",
   "metadata": {},
   "outputs": [],
   "source": [
    "# drop all null values since there's no info about missing teams\n",
    "matches.dropna(inplace=True)"
   ]
  },
  {
   "cell_type": "code",
   "execution_count": 7,
   "id": "e30da15c-0346-4665-859d-522bde80a17b",
   "metadata": {},
   "outputs": [
    {
     "data": {
      "text/plain": [
       "0"
      ]
     },
     "execution_count": 7,
     "metadata": {},
     "output_type": "execute_result"
    }
   ],
   "source": [
    "# check for duplicates\n",
    "matches.duplicated().sum()"
   ]
  },
  {
   "cell_type": "code",
   "execution_count": 8,
   "id": "74808584-6b35-42c8-87b0-8df49d2695db",
   "metadata": {},
   "outputs": [
    {
     "data": {
      "text/plain": [
       "0"
      ]
     },
     "execution_count": 8,
     "metadata": {},
     "output_type": "execute_result"
    }
   ],
   "source": [
    "#confirm null values are gone\n",
    "matches.isnull().sum().sum()"
   ]
  },
  {
   "cell_type": "markdown",
   "id": "99af029b-355c-41fc-9a3a-f89e1b25bd4e",
   "metadata": {},
   "source": [
    "Now, I'll move on to further analysis of the dataset to get information about the team, goals scored and more"
   ]
  },
  {
   "cell_type": "code",
   "execution_count": 9,
   "id": "74456555-3b30-476d-9e6a-831ca23440ab",
   "metadata": {},
   "outputs": [
    {
     "data": {
      "text/plain": [
       "season\n",
       "2008/2009    1.500000\n",
       "2009/2010    1.541176\n",
       "2010/2011    1.549536\n",
       "2011/2012    1.573981\n",
       "2012/2013    1.550000\n",
       "2013/2014    1.578826\n",
       "2014/2015    1.520301\n",
       "2015/2016    1.543206\n",
       "Name: home_goal, dtype: float64"
      ]
     },
     "execution_count": 9,
     "metadata": {},
     "output_type": "execute_result"
    }
   ],
   "source": [
    "#average goals scored by teams at their home stadium across each season\n",
    "matches.groupby('season')['home_goal'].mean()"
   ]
  },
  {
   "cell_type": "code",
   "execution_count": 140,
   "id": "8e689804-4048-4000-98ad-9a79bee87f5c",
   "metadata": {},
   "outputs": [
    {
     "data": {
      "text/plain": [
       "Text(0, 0.5, 'average goals')"
      ]
     },
     "execution_count": 140,
     "metadata": {},
     "output_type": "execute_result"
    },
    {
     "data": {
      "image/png": "[encoded data removed]",
      "text/plain": [
       "<Figure size 720x360 with 1 Axes>"
      ]
     },
     "metadata": {},
     "output_type": "display_data"
    }
   ],
   "source": [
    "x = matches.groupby('season')['home_goal'].mean()\n",
    "plt.figure(figsize=(10,5))\n",
    "sns.barplot(x.index, x.values)\n",
    "plt.title('average goals scored by teams at their home stadium across each season')\n",
    "plt.xlabel('season')\n",
    "plt.ylabel('average goals')"
   ]
  },
  {
   "cell_type": "code",
   "execution_count": 141,
   "id": "f9091bea-cded-405b-bebc-78293dc41aa1",
   "metadata": {},
   "outputs": [
    {
     "data": {
      "text/plain": [
       "season\n",
       "2008/2009    4752\n",
       "2009/2010    4978\n",
       "2010/2011    5005\n",
       "2011/2012    5021\n",
       "2012/2013    5053\n",
       "2013/2014    4787\n",
       "2014/2015    5055\n",
       "2015/2016    4929\n",
       "Name: home_goal, dtype: int64"
      ]
     },
     "execution_count": 141,
     "metadata": {},
     "output_type": "execute_result"
    }
   ],
   "source": [
    "#total goals scored by teams at their home stadium across each season\n",
    "matches.groupby('season')['home_goal'].sum()"
   ]
  },
  {
   "cell_type": "code",
   "execution_count": 10,
   "id": "6d9977d6-1fd0-46d5-9926-434d153c82f6",
   "metadata": {},
   "outputs": [
    {
     "data": {
      "text/plain": [
       "Text(0, 0.5, 'goals')"
      ]
     },
     "execution_count": 10,
     "metadata": {},
     "output_type": "execute_result"
    },
    {
     "data": {
      "image/png": "[encoded data removed]",
      "text/plain": [
       "<Figure size 720x360 with 1 Axes>"
      ]
     },
     "metadata": {},
     "output_type": "display_data"
    }
   ],
   "source": [
    "x = matches.groupby('season')['home_goal'].sum()\n",
    "plt.figure(figsize=(10,5))\n",
    "sns.barplot(x.index, x.values)\n",
    "plt.title('total goals scored by teams at their home stadium across each season')\n",
    "plt.xlabel('season')\n",
    "plt.ylabel('goals')"
   ]
  },
  {
   "cell_type": "markdown",
   "id": "5f4257df-43f9-4a43-bf09-806dc3712c33",
   "metadata": {},
   "source": [
    "`5055` home team goals were scored in 2014/2015, the highest of any season"
   ]
  },
  {
   "cell_type": "code",
   "execution_count": 12,
   "id": "24b95586-7898-455f-a6fc-ed9eb8f63aa4",
   "metadata": {},
   "outputs": [
    {
     "data": {
      "text/html": [
       "<div>\n",
       "<style scoped>\n",
       "    .dataframe tbody tr th:only-of-type {\n",
       "        vertical-align: middle;\n",
       "    }\n",
       "\n",
       "    .dataframe tbody tr th {\n",
       "        vertical-align: top;\n",
       "    }\n",
       "\n",
       "    .dataframe thead th {\n",
       "        text-align: right;\n",
       "    }\n",
       "</style>\n",
       "<table border=\"1\" class=\"dataframe\">\n",
       "  <thead>\n",
       "    <tr style=\"text-align: right;\">\n",
       "      <th></th>\n",
       "      <th>game_id</th>\n",
       "      <th>country</th>\n",
       "      <th>country_id</th>\n",
       "      <th>league</th>\n",
       "      <th>season</th>\n",
       "      <th>stage</th>\n",
       "      <th>date</th>\n",
       "      <th>home</th>\n",
       "      <th>home_goal</th>\n",
       "      <th>away</th>\n",
       "      <th>away_goal</th>\n",
       "    </tr>\n",
       "  </thead>\n",
       "  <tbody>\n",
       "    <tr>\n",
       "      <th>8256</th>\n",
       "      <td>13899</td>\n",
       "      <td>Netherlands</td>\n",
       "      <td>13274</td>\n",
       "      <td>Netherlands Eredivisie</td>\n",
       "      <td>2010/2011</td>\n",
       "      <td>10</td>\n",
       "      <td>24/10/2010</td>\n",
       "      <td>PSV</td>\n",
       "      <td>10</td>\n",
       "      <td>Feyenoord</td>\n",
       "      <td>0</td>\n",
       "    </tr>\n",
       "    <tr>\n",
       "      <th>25687</th>\n",
       "      <td>24248</td>\n",
       "      <td>Spain</td>\n",
       "      <td>21518</td>\n",
       "      <td>Spain LIGA BBVA</td>\n",
       "      <td>2015/2016</td>\n",
       "      <td>16</td>\n",
       "      <td>20/12/2015</td>\n",
       "      <td>Real Madrid CF</td>\n",
       "      <td>10</td>\n",
       "      <td>Rayo Vallecano</td>\n",
       "      <td>2</td>\n",
       "    </tr>\n",
       "  </tbody>\n",
       "</table>\n",
       "</div>"
      ],
      "text/plain": [
       "       game_id      country  country_id                  league     season  \\\n",
       "8256     13899  Netherlands       13274  Netherlands Eredivisie  2010/2011   \n",
       "25687    24248        Spain       21518         Spain LIGA BBVA  2015/2016   \n",
       "\n",
       "       stage        date            home  home_goal            away  away_goal  \n",
       "8256      10  24/10/2010             PSV         10       Feyenoord          0  \n",
       "25687     16  20/12/2015  Real Madrid CF         10  Rayo Vallecano          2  "
      ]
     },
     "execution_count": 12,
     "metadata": {},
     "output_type": "execute_result"
    }
   ],
   "source": [
    "# highest scoring home teams\n",
    "matches['home_goal'].max()\n",
    "matches.query('home_goal == 10')"
   ]
  },
  {
   "cell_type": "markdown",
   "id": "c3f86c27-6ace-4a8d-adf1-dc683d2647bb",
   "metadata": {},
   "source": [
    "`Real Madrid CF` and `PSV` recorded the highest number of goals scored by a home team from 2008-2016 demolishing Rayo Vallecano and Feyenoord in this period."
   ]
  },
  {
   "cell_type": "code",
   "execution_count": 13,
   "id": "9ebc4438-69b9-4c4a-9eea-abb1c5628e72",
   "metadata": {},
   "outputs": [
    {
     "data": {
      "text/html": [
       "<div>\n",
       "<style scoped>\n",
       "    .dataframe tbody tr th:only-of-type {\n",
       "        vertical-align: middle;\n",
       "    }\n",
       "\n",
       "    .dataframe tbody tr th {\n",
       "        vertical-align: top;\n",
       "    }\n",
       "\n",
       "    .dataframe thead th {\n",
       "        text-align: right;\n",
       "    }\n",
       "</style>\n",
       "<table border=\"1\" class=\"dataframe\">\n",
       "  <thead>\n",
       "    <tr style=\"text-align: right;\">\n",
       "      <th></th>\n",
       "      <th>game_id</th>\n",
       "      <th>country</th>\n",
       "      <th>country_id</th>\n",
       "      <th>league</th>\n",
       "      <th>season</th>\n",
       "      <th>stage</th>\n",
       "      <th>date</th>\n",
       "      <th>home</th>\n",
       "      <th>home_goal</th>\n",
       "      <th>away</th>\n",
       "      <th>away_goal</th>\n",
       "    </tr>\n",
       "  </thead>\n",
       "  <tbody>\n",
       "    <tr>\n",
       "      <th>23327</th>\n",
       "      <td>7661</td>\n",
       "      <td>France</td>\n",
       "      <td>4769</td>\n",
       "      <td>France Ligue 1</td>\n",
       "      <td>2015/2016</td>\n",
       "      <td>30</td>\n",
       "      <td>13/03/2016</td>\n",
       "      <td>ES Troyes AC</td>\n",
       "      <td>0</td>\n",
       "      <td>Paris Saint-Germain</td>\n",
       "      <td>9</td>\n",
       "    </tr>\n",
       "  </tbody>\n",
       "</table>\n",
       "</div>"
      ],
      "text/plain": [
       "       game_id country  country_id          league     season  stage  \\\n",
       "23327     7661  France        4769  France Ligue 1  2015/2016     30   \n",
       "\n",
       "             date          home  home_goal                 away  away_goal  \n",
       "23327  13/03/2016  ES Troyes AC          0  Paris Saint-Germain          9  "
      ]
     },
     "execution_count": 13,
     "metadata": {},
     "output_type": "execute_result"
    }
   ],
   "source": [
    "# highest scoring away teams\n",
    "matches['away_goal'].max()\n",
    "matches.query('away_goal == 9')"
   ]
  },
  {
   "cell_type": "markdown",
   "id": "665c9cf2-557a-4ae8-a35a-fe3359b14997",
   "metadata": {},
   "source": [
    "`Paris Saint-Germain` recorded the highest number of goals scored by an away team from 2008-2016 after humiliating ES Troyes AC in 2016."
   ]
  },
  {
   "cell_type": "markdown",
   "id": "e99bff73-e65f-465d-a153-61f0ccc195cf",
   "metadata": {},
   "source": [
    "### Lets explore the goals scored by team per season, league and country"
   ]
  },
  {
   "cell_type": "code",
   "execution_count": 14,
   "id": "bd85a068-a678-429d-94bf-f6ebbe66d484",
   "metadata": {},
   "outputs": [
    {
     "data": {
      "text/html": [
       "<div>\n",
       "<style scoped>\n",
       "    .dataframe tbody tr th:only-of-type {\n",
       "        vertical-align: middle;\n",
       "    }\n",
       "\n",
       "    .dataframe tbody tr th {\n",
       "        vertical-align: top;\n",
       "    }\n",
       "\n",
       "    .dataframe thead th {\n",
       "        text-align: right;\n",
       "    }\n",
       "</style>\n",
       "<table border=\"1\" class=\"dataframe\">\n",
       "  <thead>\n",
       "    <tr style=\"text-align: right;\">\n",
       "      <th></th>\n",
       "      <th>country</th>\n",
       "      <th>league</th>\n",
       "      <th>team</th>\n",
       "      <th>season</th>\n",
       "      <th>home_goals</th>\n",
       "      <th>away_goals</th>\n",
       "    </tr>\n",
       "  </thead>\n",
       "  <tbody>\n",
       "    <tr>\n",
       "      <th>0</th>\n",
       "      <td>Belgium</td>\n",
       "      <td>Belgium Jupiler League</td>\n",
       "      <td>NaN</td>\n",
       "      <td>2008/2009</td>\n",
       "      <td>43</td>\n",
       "      <td>56</td>\n",
       "    </tr>\n",
       "    <tr>\n",
       "      <th>1</th>\n",
       "      <td>Netherlands</td>\n",
       "      <td>Netherlands Eredivisie</td>\n",
       "      <td>NaN</td>\n",
       "      <td>2008/2009</td>\n",
       "      <td>27</td>\n",
       "      <td>27</td>\n",
       "    </tr>\n",
       "    <tr>\n",
       "      <th>2</th>\n",
       "      <td>Poland</td>\n",
       "      <td>Poland Ekstraklasa</td>\n",
       "      <td>NaN</td>\n",
       "      <td>2015/2016</td>\n",
       "      <td>21</td>\n",
       "      <td>19</td>\n",
       "    </tr>\n",
       "    <tr>\n",
       "      <th>3</th>\n",
       "      <td>Portugal</td>\n",
       "      <td>Portugal Liga ZON Sagres</td>\n",
       "      <td>NaN</td>\n",
       "      <td>2011/2012</td>\n",
       "      <td>13</td>\n",
       "      <td>19</td>\n",
       "    </tr>\n",
       "    <tr>\n",
       "      <th>4</th>\n",
       "      <td>Portugal</td>\n",
       "      <td>Portugal Liga ZON Sagres</td>\n",
       "      <td>NaN</td>\n",
       "      <td>2015/2016</td>\n",
       "      <td>34</td>\n",
       "      <td>43</td>\n",
       "    </tr>\n",
       "  </tbody>\n",
       "</table>\n",
       "</div>"
      ],
      "text/plain": [
       "       country                    league team     season  home_goals  \\\n",
       "0      Belgium    Belgium Jupiler League  NaN  2008/2009          43   \n",
       "1  Netherlands    Netherlands Eredivisie  NaN  2008/2009          27   \n",
       "2       Poland        Poland Ekstraklasa  NaN  2015/2016          21   \n",
       "3     Portugal  Portugal Liga ZON Sagres  NaN  2011/2012          13   \n",
       "4     Portugal  Portugal Liga ZON Sagres  NaN  2015/2016          34   \n",
       "\n",
       "   away_goals  \n",
       "0          56  \n",
       "1          27  \n",
       "2          19  \n",
       "3          19  \n",
       "4          43  "
      ]
     },
     "execution_count": 14,
     "metadata": {},
     "output_type": "execute_result"
    }
   ],
   "source": [
    "home_away = pd.read_csv('homeandaway_goals.csv', names=['country', 'league', 'team', 'season', 'home_goals', 'away_goals'])\n",
    "home_away.head()"
   ]
  },
  {
   "cell_type": "markdown",
   "id": "ff6efe7d-1414-4a13-839f-0306ff02208d",
   "metadata": {},
   "source": [
    "Now, lets have an overview of the dataset"
   ]
  },
  {
   "cell_type": "code",
   "execution_count": 15,
   "id": "69cae5db-3472-4fe6-bf0a-9f01896ea94b",
   "metadata": {},
   "outputs": [
    {
     "name": "stdout",
     "output_type": "stream",
     "text": [
      "(1475, 6)\n",
      "<class 'pandas.core.frame.DataFrame'>\n",
      "RangeIndex: 1475 entries, 0 to 1474\n",
      "Data columns (total 6 columns):\n",
      " #   Column      Non-Null Count  Dtype \n",
      "---  ------      --------------  ----- \n",
      " 0   country     1475 non-null   object\n",
      " 1   league      1475 non-null   object\n",
      " 2   team        1467 non-null   object\n",
      " 3   season      1475 non-null   object\n",
      " 4   home_goals  1475 non-null   int64 \n",
      " 5   away_goals  1475 non-null   int64 \n",
      "dtypes: int64(2), object(4)\n",
      "memory usage: 69.3+ KB\n"
     ]
    }
   ],
   "source": [
    "print(home_away.shape)\n",
    "home_away.info()"
   ]
  },
  {
   "cell_type": "code",
   "execution_count": 16,
   "id": "359f4e8d-c9f4-41d4-81b6-e4c1e0c0e99b",
   "metadata": {},
   "outputs": [
    {
     "data": {
      "text/html": [
       "<div>\n",
       "<style scoped>\n",
       "    .dataframe tbody tr th:only-of-type {\n",
       "        vertical-align: middle;\n",
       "    }\n",
       "\n",
       "    .dataframe tbody tr th {\n",
       "        vertical-align: top;\n",
       "    }\n",
       "\n",
       "    .dataframe thead th {\n",
       "        text-align: right;\n",
       "    }\n",
       "</style>\n",
       "<table border=\"1\" class=\"dataframe\">\n",
       "  <thead>\n",
       "    <tr style=\"text-align: right;\">\n",
       "      <th></th>\n",
       "      <th>home_goals</th>\n",
       "      <th>away_goals</th>\n",
       "    </tr>\n",
       "  </thead>\n",
       "  <tbody>\n",
       "    <tr>\n",
       "      <th>count</th>\n",
       "      <td>1475.000000</td>\n",
       "      <td>1475.000000</td>\n",
       "    </tr>\n",
       "    <tr>\n",
       "      <th>mean</th>\n",
       "      <td>27.204746</td>\n",
       "      <td>20.447458</td>\n",
       "    </tr>\n",
       "    <tr>\n",
       "      <th>std</th>\n",
       "      <td>9.681921</td>\n",
       "      <td>6.820766</td>\n",
       "    </tr>\n",
       "    <tr>\n",
       "      <th>min</th>\n",
       "      <td>3.000000</td>\n",
       "      <td>1.000000</td>\n",
       "    </tr>\n",
       "    <tr>\n",
       "      <th>25%</th>\n",
       "      <td>21.000000</td>\n",
       "      <td>15.000000</td>\n",
       "    </tr>\n",
       "    <tr>\n",
       "      <th>50%</th>\n",
       "      <td>26.000000</td>\n",
       "      <td>20.000000</td>\n",
       "    </tr>\n",
       "    <tr>\n",
       "      <th>75%</th>\n",
       "      <td>32.000000</td>\n",
       "      <td>25.000000</td>\n",
       "    </tr>\n",
       "    <tr>\n",
       "      <th>max</th>\n",
       "      <td>73.000000</td>\n",
       "      <td>56.000000</td>\n",
       "    </tr>\n",
       "  </tbody>\n",
       "</table>\n",
       "</div>"
      ],
      "text/plain": [
       "        home_goals   away_goals\n",
       "count  1475.000000  1475.000000\n",
       "mean     27.204746    20.447458\n",
       "std       9.681921     6.820766\n",
       "min       3.000000     1.000000\n",
       "25%      21.000000    15.000000\n",
       "50%      26.000000    20.000000\n",
       "75%      32.000000    25.000000\n",
       "max      73.000000    56.000000"
      ]
     },
     "execution_count": 16,
     "metadata": {},
     "output_type": "execute_result"
    }
   ],
   "source": [
    "home_away.describe()"
   ]
  },
  {
   "cell_type": "code",
   "execution_count": 17,
   "id": "f4a730de-1f53-4418-bc7d-e2be78bc2dd6",
   "metadata": {},
   "outputs": [
    {
     "name": "stdout",
     "output_type": "stream",
     "text": [
      "checking for null values\n"
     ]
    },
    {
     "data": {
      "text/html": [
       "<div>\n",
       "<style scoped>\n",
       "    .dataframe tbody tr th:only-of-type {\n",
       "        vertical-align: middle;\n",
       "    }\n",
       "\n",
       "    .dataframe tbody tr th {\n",
       "        vertical-align: top;\n",
       "    }\n",
       "\n",
       "    .dataframe thead th {\n",
       "        text-align: right;\n",
       "    }\n",
       "</style>\n",
       "<table border=\"1\" class=\"dataframe\">\n",
       "  <thead>\n",
       "    <tr style=\"text-align: right;\">\n",
       "      <th></th>\n",
       "      <th>Total</th>\n",
       "      <th>%</th>\n",
       "    </tr>\n",
       "  </thead>\n",
       "  <tbody>\n",
       "    <tr>\n",
       "      <th>team</th>\n",
       "      <td>8</td>\n",
       "      <td>0.5</td>\n",
       "    </tr>\n",
       "    <tr>\n",
       "      <th>country</th>\n",
       "      <td>0</td>\n",
       "      <td>0.0</td>\n",
       "    </tr>\n",
       "    <tr>\n",
       "      <th>league</th>\n",
       "      <td>0</td>\n",
       "      <td>0.0</td>\n",
       "    </tr>\n",
       "    <tr>\n",
       "      <th>season</th>\n",
       "      <td>0</td>\n",
       "      <td>0.0</td>\n",
       "    </tr>\n",
       "    <tr>\n",
       "      <th>home_goals</th>\n",
       "      <td>0</td>\n",
       "      <td>0.0</td>\n",
       "    </tr>\n",
       "    <tr>\n",
       "      <th>away_goals</th>\n",
       "      <td>0</td>\n",
       "      <td>0.0</td>\n",
       "    </tr>\n",
       "  </tbody>\n",
       "</table>\n",
       "</div>"
      ],
      "text/plain": [
       "            Total    %\n",
       "team            8  0.5\n",
       "country         0  0.0\n",
       "league          0  0.0\n",
       "season          0  0.0\n",
       "home_goals      0  0.0\n",
       "away_goals      0  0.0"
      ]
     },
     "execution_count": 17,
     "metadata": {},
     "output_type": "execute_result"
    }
   ],
   "source": [
    "# checking for nulls\n",
    "print('checking for null values')\n",
    "null = home_away.isnull().sum().sort_values(ascending=False)\n",
    "n1 = home_away.isnull().sum()/home_away.isnull().count()*100\n",
    "n2 = (np.round(n1, 1)).sort_values(ascending=False)\n",
    "missing_val = pd.concat([null, n2], axis=1, keys=['Total', '%'])\n",
    "missing_val"
   ]
  },
  {
   "cell_type": "code",
   "execution_count": 18,
   "id": "9d2c7d82-03ed-43be-a710-59fdb39b1c64",
   "metadata": {},
   "outputs": [],
   "source": [
    "# drop null values\n",
    "home_away.dropna(inplace=True)"
   ]
  },
  {
   "cell_type": "code",
   "execution_count": 19,
   "id": "f7d0b74a-255c-41c9-8da8-43841adf7ae1",
   "metadata": {},
   "outputs": [
    {
     "data": {
      "text/plain": [
       "0"
      ]
     },
     "execution_count": 19,
     "metadata": {},
     "output_type": "execute_result"
    }
   ],
   "source": [
    "# check for duplicates\n",
    "home_away.duplicated().sum()"
   ]
  },
  {
   "cell_type": "code",
   "execution_count": 20,
   "id": "63184baf-32da-4c83-b5e6-647e16ed74c7",
   "metadata": {},
   "outputs": [
    {
     "data": {
      "text/plain": [
       "0"
      ]
     },
     "execution_count": 20,
     "metadata": {},
     "output_type": "execute_result"
    }
   ],
   "source": [
    "#confirm null values are gone\n",
    "home_away.isnull().sum().sum()"
   ]
  },
  {
   "cell_type": "code",
   "execution_count": 21,
   "id": "9bfdf17e-a5d7-499b-9b05-f574679c865d",
   "metadata": {},
   "outputs": [
    {
     "data": {
      "text/plain": [
       "Text(0.5, 1.0, 'Distribution of home goals scored')"
      ]
     },
     "execution_count": 21,
     "metadata": {},
     "output_type": "execute_result"
    },
    {
     "data": {
      "image/png": "[encoded data removed]",
      "text/plain": [
       "<Figure size 432x288 with 1 Axes>"
      ]
     },
     "metadata": {},
     "output_type": "display_data"
    }
   ],
   "source": [
    "# distribution of home team goals\n",
    "sns.histplot(home_away['home_goals'], kde=True)\n",
    "plt.title('Distribution of home goals scored')"
   ]
  },
  {
   "cell_type": "markdown",
   "id": "383ada4d-f959-4574-b084-be108e53976a",
   "metadata": {},
   "source": [
    "The distribution is positively skewed"
   ]
  },
  {
   "cell_type": "code",
   "execution_count": 22,
   "id": "cc7dedf5-c00e-4889-a41b-e03e50c15bcc",
   "metadata": {},
   "outputs": [
    {
     "data": {
      "text/plain": [
       "Text(0.5, 1.0, 'Distribution of away goals scored')"
      ]
     },
     "execution_count": 22,
     "metadata": {},
     "output_type": "execute_result"
    },
    {
     "data": {
      "image/png": "[encoded data removed]",
      "text/plain": [
       "<Figure size 432x288 with 1 Axes>"
      ]
     },
     "metadata": {},
     "output_type": "display_data"
    }
   ],
   "source": [
    "# distribution of away team goals\n",
    "sns.histplot(home_away['away_goals'], kde=True)\n",
    "plt.title('Distribution of away goals scored')"
   ]
  },
  {
   "cell_type": "markdown",
   "id": "9eb5c94a-e5de-464c-bf52-aad88babd821",
   "metadata": {},
   "source": [
    "The distribution is positively skewed"
   ]
  },
  {
   "cell_type": "code",
   "execution_count": 24,
   "id": "2ac776a1-2af9-4c45-a011-6f4200f28054",
   "metadata": {},
   "outputs": [],
   "source": [
    "# total goals scored per season\n",
    "home_away['total_goals'] = home_away['home_goals'] + home_away['away_goals']"
   ]
  },
  {
   "cell_type": "code",
   "execution_count": 25,
   "id": "28a14822-184c-414c-82c3-8a6abcc2a6ba",
   "metadata": {},
   "outputs": [
    {
     "data": {
      "text/plain": [
       "count    1467.000000\n",
       "mean       47.594410\n",
       "std        10.301845\n",
       "min         4.000000\n",
       "25%        41.000000\n",
       "50%        47.000000\n",
       "75%        54.000000\n",
       "max        89.000000\n",
       "Name: total_goals, dtype: float64"
      ]
     },
     "execution_count": 25,
     "metadata": {},
     "output_type": "execute_result"
    }
   ],
   "source": [
    "home_away['total_goals'].describe()"
   ]
  },
  {
   "cell_type": "code",
   "execution_count": 26,
   "id": "5f0a80c3-4ab0-4cad-990c-2986a8c58c93",
   "metadata": {},
   "outputs": [
    {
     "data": {
      "text/html": [
       "<div>\n",
       "<style scoped>\n",
       "    .dataframe tbody tr th:only-of-type {\n",
       "        vertical-align: middle;\n",
       "    }\n",
       "\n",
       "    .dataframe tbody tr th {\n",
       "        vertical-align: top;\n",
       "    }\n",
       "\n",
       "    .dataframe thead th {\n",
       "        text-align: right;\n",
       "    }\n",
       "</style>\n",
       "<table border=\"1\" class=\"dataframe\">\n",
       "  <thead>\n",
       "    <tr style=\"text-align: right;\">\n",
       "      <th></th>\n",
       "      <th>country</th>\n",
       "      <th>league</th>\n",
       "      <th>team</th>\n",
       "      <th>season</th>\n",
       "      <th>home_goals</th>\n",
       "      <th>away_goals</th>\n",
       "      <th>total_goals</th>\n",
       "    </tr>\n",
       "  </thead>\n",
       "  <tbody>\n",
       "    <tr>\n",
       "      <th>1040</th>\n",
       "      <td>Spain</td>\n",
       "      <td>Spain LIGA BBVA</td>\n",
       "      <td>Real Madrid CF</td>\n",
       "      <td>2011/2012</td>\n",
       "      <td>70</td>\n",
       "      <td>19</td>\n",
       "      <td>89</td>\n",
       "    </tr>\n",
       "  </tbody>\n",
       "</table>\n",
       "</div>"
      ],
      "text/plain": [
       "     country           league            team     season  home_goals  \\\n",
       "1040   Spain  Spain LIGA BBVA  Real Madrid CF  2011/2012          70   \n",
       "\n",
       "      away_goals  total_goals  \n",
       "1040          19           89  "
      ]
     },
     "execution_count": 26,
     "metadata": {},
     "output_type": "execute_result"
    }
   ],
   "source": [
    "# team that scored the highest goals across all seasons\n",
    "home_away.query('total_goals == 89')"
   ]
  },
  {
   "cell_type": "markdown",
   "id": "868b47a1-56cf-4625-90ff-71256a6226ac",
   "metadata": {},
   "source": [
    "`Real Madrid CF` scored a total of `89` goals in 2011/2012, the highest of any team."
   ]
  },
  {
   "cell_type": "code",
   "execution_count": 28,
   "id": "95fcea52-a516-43d8-9970-101ade0e598b",
   "metadata": {},
   "outputs": [
    {
     "data": {
      "text/plain": [
       "season\n",
       "2008/2009    78\n",
       "2009/2010    82\n",
       "2010/2011    76\n",
       "2011/2012    89\n",
       "2012/2013    88\n",
       "2013/2014    80\n",
       "2014/2015    80\n",
       "2015/2016    86\n",
       "Name: total_goals, dtype: int64"
      ]
     },
     "execution_count": 28,
     "metadata": {},
     "output_type": "execute_result"
    }
   ],
   "source": [
    "# highest number of total goals across all seasons.\n",
    "home_away.groupby('season')['total_goals'].max()"
   ]
  },
  {
   "cell_type": "markdown",
   "id": "a513ea56-189a-4842-83d8-e75d4a3910e3",
   "metadata": {},
   "source": [
    "From the above, we can see that the 2010/2011 is the lowest scoring season."
   ]
  },
  {
   "cell_type": "code",
   "execution_count": 31,
   "id": "41fd9834-154a-4c63-ab7f-55ad35fd2f0d",
   "metadata": {},
   "outputs": [
    {
     "data": {
      "text/html": [
       "<div>\n",
       "<style scoped>\n",
       "    .dataframe tbody tr th:only-of-type {\n",
       "        vertical-align: middle;\n",
       "    }\n",
       "\n",
       "    .dataframe tbody tr th {\n",
       "        vertical-align: top;\n",
       "    }\n",
       "\n",
       "    .dataframe thead th {\n",
       "        text-align: right;\n",
       "    }\n",
       "</style>\n",
       "<table border=\"1\" class=\"dataframe\">\n",
       "  <thead>\n",
       "    <tr style=\"text-align: right;\">\n",
       "      <th></th>\n",
       "      <th>country</th>\n",
       "      <th>league</th>\n",
       "      <th>team</th>\n",
       "      <th>season</th>\n",
       "      <th>home_goals</th>\n",
       "      <th>away_goals</th>\n",
       "      <th>total_goals</th>\n",
       "    </tr>\n",
       "  </thead>\n",
       "  <tbody>\n",
       "    <tr>\n",
       "      <th>810</th>\n",
       "      <td>England</td>\n",
       "      <td>England Premier League</td>\n",
       "      <td>Manchester City</td>\n",
       "      <td>2013/2014</td>\n",
       "      <td>63</td>\n",
       "      <td>13</td>\n",
       "      <td>76</td>\n",
       "    </tr>\n",
       "    <tr>\n",
       "      <th>1452</th>\n",
       "      <td>Netherlands</td>\n",
       "      <td>Netherlands Eredivisie</td>\n",
       "      <td>Willem II</td>\n",
       "      <td>2010/2011</td>\n",
       "      <td>28</td>\n",
       "      <td>48</td>\n",
       "      <td>76</td>\n",
       "    </tr>\n",
       "  </tbody>\n",
       "</table>\n",
       "</div>"
      ],
      "text/plain": [
       "          country                  league             team     season  \\\n",
       "810       England  England Premier League  Manchester City  2013/2014   \n",
       "1452  Netherlands  Netherlands Eredivisie        Willem II  2010/2011   \n",
       "\n",
       "      home_goals  away_goals  total_goals  \n",
       "810           63          13           76  \n",
       "1452          28          48           76  "
      ]
     },
     "execution_count": 31,
     "metadata": {},
     "output_type": "execute_result"
    }
   ],
   "source": [
    "# For the lowest scoring season, Manchester City and Willem II scored the most.\n",
    "home_away.query('total_goals == 76')"
   ]
  },
  {
   "cell_type": "code",
   "execution_count": 34,
   "id": "5112085f-7d46-4481-a72b-2b2351218aee",
   "metadata": {},
   "outputs": [
    {
     "data": {
      "image/png": "[encoded data removed]",
      "text/plain": [
       "<Figure size 720x360 with 1 Axes>"
      ]
     },
     "metadata": {},
     "output_type": "display_data"
    }
   ],
   "source": [
    "width = 0.55\n",
    "x = home_away.groupby('season')['total_goals'].max()\n",
    "fig, ax = plt.subplots( figsize=(10,5))\n",
    "X = x.index\n",
    "c = ['#D4A29C', '#E8B298', '#EDCC8B', '#BDD1C5', '#9DAAA2', '#E8B298', '#EDCC8B', '#D4A29C']\n",
    "ax.set_xlabel('Season')\n",
    "ax.set_ylabel('Total Goals scored')\n",
    "ax.set_title('Highest goals scored by a team across all seasons')\n",
    "pps = ax.bar(x.index, x.values, width, color=c)\n",
    "for p in pps:\n",
    "    height = p.get_height()\n",
    "    ax.text(x=p.get_x() + p.get_width()/2, y=height+.10, s='{}'.format(height), ha='center')"
   ]
  },
  {
   "cell_type": "markdown",
   "id": "1a08a942-b8b0-4d53-a18c-f8e23884ed66",
   "metadata": {},
   "source": [
    "### Lets explore the team goals by season, country and team"
   ]
  },
  {
   "cell_type": "code",
   "execution_count": 78,
   "id": "eff3018a-af1e-47f7-bcda-10e0b859080a",
   "metadata": {},
   "outputs": [
    {
     "data": {
      "text/html": [
       "<div>\n",
       "<style scoped>\n",
       "    .dataframe tbody tr th:only-of-type {\n",
       "        vertical-align: middle;\n",
       "    }\n",
       "\n",
       "    .dataframe tbody tr th {\n",
       "        vertical-align: top;\n",
       "    }\n",
       "\n",
       "    .dataframe thead th {\n",
       "        text-align: right;\n",
       "    }\n",
       "</style>\n",
       "<table border=\"1\" class=\"dataframe\">\n",
       "  <thead>\n",
       "    <tr style=\"text-align: right;\">\n",
       "      <th></th>\n",
       "      <th>season</th>\n",
       "      <th>country</th>\n",
       "      <th>team</th>\n",
       "      <th>goals</th>\n",
       "    </tr>\n",
       "  </thead>\n",
       "  <tbody>\n",
       "    <tr>\n",
       "      <th>0</th>\n",
       "      <td>2011/2012</td>\n",
       "      <td>Spain</td>\n",
       "      <td>FC Barcelona</td>\n",
       "      <td>73</td>\n",
       "    </tr>\n",
       "    <tr>\n",
       "      <th>1</th>\n",
       "      <td>2011/2012</td>\n",
       "      <td>Spain</td>\n",
       "      <td>Real Madrid CF</td>\n",
       "      <td>70</td>\n",
       "    </tr>\n",
       "    <tr>\n",
       "      <th>2</th>\n",
       "      <td>2015/2016</td>\n",
       "      <td>Spain</td>\n",
       "      <td>Real Madrid CF</td>\n",
       "      <td>70</td>\n",
       "    </tr>\n",
       "    <tr>\n",
       "      <th>3</th>\n",
       "      <td>2009/2010</td>\n",
       "      <td>England</td>\n",
       "      <td>Chelsea</td>\n",
       "      <td>68</td>\n",
       "    </tr>\n",
       "    <tr>\n",
       "      <th>4</th>\n",
       "      <td>2012/2013</td>\n",
       "      <td>Spain</td>\n",
       "      <td>Real Madrid CF</td>\n",
       "      <td>67</td>\n",
       "    </tr>\n",
       "  </tbody>\n",
       "</table>\n",
       "</div>"
      ],
      "text/plain": [
       "      season  country            team  goals\n",
       "0  2011/2012    Spain    FC Barcelona     73\n",
       "1  2011/2012    Spain  Real Madrid CF     70\n",
       "2  2015/2016    Spain  Real Madrid CF     70\n",
       "3  2009/2010  England         Chelsea     68\n",
       "4  2012/2013    Spain  Real Madrid CF     67"
      ]
     },
     "execution_count": 78,
     "metadata": {},
     "output_type": "execute_result"
    }
   ],
   "source": [
    "total_goals = pd.read_csv('goals_by_team&season.csv', names=['season', 'country', 'team', 'goals'])\n",
    "total_goals.head()"
   ]
  },
  {
   "cell_type": "code",
   "execution_count": 79,
   "id": "f60e6ddc-0ffc-4e7a-afe0-7d27f86f604a",
   "metadata": {},
   "outputs": [
    {
     "name": "stdout",
     "output_type": "stream",
     "text": [
      "checking for null values\n"
     ]
    },
    {
     "data": {
      "text/html": [
       "<div>\n",
       "<style scoped>\n",
       "    .dataframe tbody tr th:only-of-type {\n",
       "        vertical-align: middle;\n",
       "    }\n",
       "\n",
       "    .dataframe tbody tr th {\n",
       "        vertical-align: top;\n",
       "    }\n",
       "\n",
       "    .dataframe thead th {\n",
       "        text-align: right;\n",
       "    }\n",
       "</style>\n",
       "<table border=\"1\" class=\"dataframe\">\n",
       "  <thead>\n",
       "    <tr style=\"text-align: right;\">\n",
       "      <th></th>\n",
       "      <th>Total</th>\n",
       "      <th>%</th>\n",
       "    </tr>\n",
       "  </thead>\n",
       "  <tbody>\n",
       "    <tr>\n",
       "      <th>team</th>\n",
       "      <td>8</td>\n",
       "      <td>0.5</td>\n",
       "    </tr>\n",
       "    <tr>\n",
       "      <th>season</th>\n",
       "      <td>0</td>\n",
       "      <td>0.0</td>\n",
       "    </tr>\n",
       "    <tr>\n",
       "      <th>country</th>\n",
       "      <td>0</td>\n",
       "      <td>0.0</td>\n",
       "    </tr>\n",
       "    <tr>\n",
       "      <th>goals</th>\n",
       "      <td>0</td>\n",
       "      <td>0.0</td>\n",
       "    </tr>\n",
       "  </tbody>\n",
       "</table>\n",
       "</div>"
      ],
      "text/plain": [
       "         Total    %\n",
       "team         8  0.5\n",
       "season       0  0.0\n",
       "country      0  0.0\n",
       "goals        0  0.0"
      ]
     },
     "execution_count": 79,
     "metadata": {},
     "output_type": "execute_result"
    }
   ],
   "source": [
    "# checking for null values\n",
    "print('checking for null values')\n",
    "null = total_goals.isnull().sum().sort_values(ascending=False)\n",
    "n1 = total_goals.isnull().sum()/total_goals.isnull().count()*100\n",
    "n2 = (np.round(n1, 1)).sort_values(ascending=False)\n",
    "missing_val = pd.concat([null, n2], axis=1, keys=['Total', '%'])\n",
    "missing_val"
   ]
  },
  {
   "cell_type": "code",
   "execution_count": 80,
   "id": "c522fbf1-0997-4aab-83ee-af6c4dc5bbbc",
   "metadata": {},
   "outputs": [],
   "source": [
    "# drop null values\n",
    "total_goals.dropna(inplace=True)"
   ]
  },
  {
   "cell_type": "code",
   "execution_count": 81,
   "id": "7a40160b-488d-4ac4-892a-c758db1aef31",
   "metadata": {},
   "outputs": [
    {
     "data": {
      "text/plain": [
       "0"
      ]
     },
     "execution_count": 81,
     "metadata": {},
     "output_type": "execute_result"
    }
   ],
   "source": [
    "# check for duplicates\n",
    "total_goals.duplicated().sum()"
   ]
  },
  {
   "cell_type": "code",
   "execution_count": 82,
   "id": "251c5c20-f99c-4139-99eb-55955dafa416",
   "metadata": {},
   "outputs": [
    {
     "name": "stdout",
     "output_type": "stream",
     "text": [
      "<class 'pandas.core.frame.DataFrame'>\n",
      "Int64Index: 1467 entries, 0 to 1474\n",
      "Data columns (total 4 columns):\n",
      " #   Column   Non-Null Count  Dtype \n",
      "---  ------   --------------  ----- \n",
      " 0   season   1467 non-null   object\n",
      " 1   country  1467 non-null   object\n",
      " 2   team     1467 non-null   object\n",
      " 3   goals    1467 non-null   int64 \n",
      "dtypes: int64(1), object(3)\n",
      "memory usage: 57.3+ KB\n"
     ]
    }
   ],
   "source": [
    "total_goals.info()"
   ]
  },
  {
   "cell_type": "code",
   "execution_count": 83,
   "id": "96758191-5d0c-4c21-a800-2aed18d55dd2",
   "metadata": {},
   "outputs": [
    {
     "data": {
      "text/html": [
       "<div>\n",
       "<style scoped>\n",
       "    .dataframe tbody tr th:only-of-type {\n",
       "        vertical-align: middle;\n",
       "    }\n",
       "\n",
       "    .dataframe tbody tr th {\n",
       "        vertical-align: top;\n",
       "    }\n",
       "\n",
       "    .dataframe thead th {\n",
       "        text-align: right;\n",
       "    }\n",
       "</style>\n",
       "<table border=\"1\" class=\"dataframe\">\n",
       "  <thead>\n",
       "    <tr style=\"text-align: right;\">\n",
       "      <th></th>\n",
       "      <th>goals</th>\n",
       "    </tr>\n",
       "  </thead>\n",
       "  <tbody>\n",
       "    <tr>\n",
       "      <th>count</th>\n",
       "      <td>1467.000000</td>\n",
       "    </tr>\n",
       "    <tr>\n",
       "      <th>mean</th>\n",
       "      <td>27.209271</td>\n",
       "    </tr>\n",
       "    <tr>\n",
       "      <th>std</th>\n",
       "      <td>9.686024</td>\n",
       "    </tr>\n",
       "    <tr>\n",
       "      <th>min</th>\n",
       "      <td>3.000000</td>\n",
       "    </tr>\n",
       "    <tr>\n",
       "      <th>25%</th>\n",
       "      <td>21.000000</td>\n",
       "    </tr>\n",
       "    <tr>\n",
       "      <th>50%</th>\n",
       "      <td>26.000000</td>\n",
       "    </tr>\n",
       "    <tr>\n",
       "      <th>75%</th>\n",
       "      <td>32.000000</td>\n",
       "    </tr>\n",
       "    <tr>\n",
       "      <th>max</th>\n",
       "      <td>73.000000</td>\n",
       "    </tr>\n",
       "  </tbody>\n",
       "</table>\n",
       "</div>"
      ],
      "text/plain": [
       "             goals\n",
       "count  1467.000000\n",
       "mean     27.209271\n",
       "std       9.686024\n",
       "min       3.000000\n",
       "25%      21.000000\n",
       "50%      26.000000\n",
       "75%      32.000000\n",
       "max      73.000000"
      ]
     },
     "execution_count": 83,
     "metadata": {},
     "output_type": "execute_result"
    }
   ],
   "source": [
    "total_goals.describe()"
   ]
  },
  {
   "cell_type": "code",
   "execution_count": 84,
   "id": "2c6e0309-b754-4e29-a58d-311699b6e8e1",
   "metadata": {},
   "outputs": [
    {
     "data": {
      "text/plain": [
       "season\n",
       "2008/2009    26.961538\n",
       "2009/2010    26.908108\n",
       "2010/2011    27.336957\n",
       "2011/2012    27.451087\n",
       "2012/2013    27.166667\n",
       "2013/2014    27.511494\n",
       "2014/2015    26.888298\n",
       "2015/2016    27.472826\n",
       "Name: goals, dtype: float64"
      ]
     },
     "execution_count": 84,
     "metadata": {},
     "output_type": "execute_result"
    }
   ],
   "source": [
    "# average goals by season\n",
    "total_goals.groupby('season')['goals'].mean()"
   ]
  },
  {
   "cell_type": "code",
   "execution_count": 85,
   "id": "d0c3fa90-8843-4057-98d8-0fe876f9a991",
   "metadata": {},
   "outputs": [
    {
     "data": {
      "text/plain": [
       "Text(0.5, 1.0, 'Average goals per season')"
      ]
     },
     "execution_count": 85,
     "metadata": {},
     "output_type": "execute_result"
    },
    {
     "data": {
      "image/png": "[encoded data removed]",
      "text/plain": [
       "<Figure size 720x360 with 1 Axes>"
      ]
     },
     "metadata": {},
     "output_type": "display_data"
    }
   ],
   "source": [
    "x = total_goals.groupby('season')['goals'].mean()\n",
    "plt.figure(figsize=(10,5))\n",
    "sns.barplot(x.index, x.values, palette='Paired')\n",
    "plt.xlabel('season')\n",
    "plt.ylabel('Average goals scored')\n",
    "plt.title('Average goals per season')"
   ]
  },
  {
   "cell_type": "code",
   "execution_count": 86,
   "id": "a443dc83-da39-4168-a14b-65ac48bc491b",
   "metadata": {},
   "outputs": [
    {
     "data": {
      "text/plain": [
       "country\n",
       "Belgium        23.808696\n",
       "England        29.468750\n",
       "France         26.656250\n",
       "Germany        27.652778\n",
       "Italy          28.300000\n",
       "Netherlands    30.279720\n",
       "Poland         21.427419\n",
       "Portugal       22.182540\n",
       "Scotland       27.156250\n",
       "Spain          30.993750\n",
       "Switzerland    29.620253\n",
       "Name: goals, dtype: float64"
      ]
     },
     "execution_count": 86,
     "metadata": {},
     "output_type": "execute_result"
    }
   ],
   "source": [
    "# average goals by country\n",
    "total_goals.groupby('country')['goals'].mean()"
   ]
  },
  {
   "cell_type": "code",
   "execution_count": 87,
   "id": "dc0abff5-43b2-4230-a472-13fab55c5477",
   "metadata": {},
   "outputs": [
    {
     "data": {
      "text/plain": [
       "Text(0.5, 1.0, 'Average goals per country')"
      ]
     },
     "execution_count": 87,
     "metadata": {},
     "output_type": "execute_result"
    },
    {
     "data": {
      "image/png": "[encoded data removed]",
      "text/plain": [
       "<Figure size 720x360 with 1 Axes>"
      ]
     },
     "metadata": {},
     "output_type": "display_data"
    }
   ],
   "source": [
    "x = total_goals.groupby('country')['goals'].mean()\n",
    "plt.figure(figsize=(10,5))\n",
    "plt.bar(x.index, x.values, color='r')\n",
    "plt.xlabel('season')\n",
    "plt.ylabel('Average goals scored')\n",
    "plt.title('Average goals per country')"
   ]
  },
  {
   "cell_type": "markdown",
   "id": "82bec78f-9b9c-4c7c-a40f-9300ca9bd582",
   "metadata": {},
   "source": [
    "Highest scoring teams by country per season"
   ]
  },
  {
   "cell_type": "code",
   "execution_count": 92,
   "id": "d21084ad-eac0-45e3-8483-b7885018cb05",
   "metadata": {},
   "outputs": [
    {
     "name": "stdout",
     "output_type": "stream",
     "text": [
      "highest goal scored in 2008/2009 by country = 61\n",
      "highest goal scored in 2010/2011 by country = 61\n",
      "highest goal scored in 2011/2012 by country = 73\n",
      "highest goal scored in 2012/2013 by country = 67\n",
      "highest goal scored in 2013/2014 by country = 64\n",
      "highest goal scored in 2014/2015 by country = 65\n",
      "highest goal scored in 2015/2016 by country = 70\n"
     ]
    }
   ],
   "source": [
    "print('highest goal scored in 2008/2009 by country = {}'.format(total_goals[total_goals['season'] == '2008/2009']['goals'].max()))\n",
    "print('highest goal scored in 2010/2011 by country = {}'.format(total_goals[total_goals['season'] == '2010/2011']['goals'].max()))\n",
    "print('highest goal scored in 2011/2012 by country = {}'.format(total_goals[total_goals['season'] == '2011/2012']['goals'].max()))\n",
    "print('highest goal scored in 2012/2013 by country = {}'.format(total_goals[total_goals['season'] == '2012/2013']['goals'].max()))\n",
    "print('highest goal scored in 2013/2014 by country = {}'.format(total_goals[total_goals['season'] == '2013/2014']['goals'].max()))\n",
    "print('highest goal scored in 2014/2015 by country = {}'.format(total_goals[total_goals['season'] == '2014/2015']['goals'].max()))\n",
    "print('highest goal scored in 2015/2016 by country = {}'.format(total_goals[total_goals['season'] == '2015/2016']['goals'].max()))"
   ]
  },
  {
   "cell_type": "code",
   "execution_count": 97,
   "id": "3e4ca412-295c-4a25-aa59-378d0bd7ed30",
   "metadata": {},
   "outputs": [
    {
     "data": {
      "text/html": [
       "<div>\n",
       "<style scoped>\n",
       "    .dataframe tbody tr th:only-of-type {\n",
       "        vertical-align: middle;\n",
       "    }\n",
       "\n",
       "    .dataframe tbody tr th {\n",
       "        vertical-align: top;\n",
       "    }\n",
       "\n",
       "    .dataframe thead th {\n",
       "        text-align: right;\n",
       "    }\n",
       "</style>\n",
       "<table border=\"1\" class=\"dataframe\">\n",
       "  <thead>\n",
       "    <tr style=\"text-align: right;\">\n",
       "      <th></th>\n",
       "      <th>season</th>\n",
       "      <th>country</th>\n",
       "      <th>team</th>\n",
       "      <th>goals</th>\n",
       "    </tr>\n",
       "  </thead>\n",
       "  <tbody>\n",
       "    <tr>\n",
       "      <th>0</th>\n",
       "      <td>2011/2012</td>\n",
       "      <td>Spain</td>\n",
       "      <td>FC Barcelona</td>\n",
       "      <td>73</td>\n",
       "    </tr>\n",
       "    <tr>\n",
       "      <th>1</th>\n",
       "      <td>2011/2012</td>\n",
       "      <td>Spain</td>\n",
       "      <td>Real Madrid CF</td>\n",
       "      <td>70</td>\n",
       "    </tr>\n",
       "    <tr>\n",
       "      <th>2</th>\n",
       "      <td>2015/2016</td>\n",
       "      <td>Spain</td>\n",
       "      <td>Real Madrid CF</td>\n",
       "      <td>70</td>\n",
       "    </tr>\n",
       "    <tr>\n",
       "      <th>4</th>\n",
       "      <td>2012/2013</td>\n",
       "      <td>Spain</td>\n",
       "      <td>Real Madrid CF</td>\n",
       "      <td>67</td>\n",
       "    </tr>\n",
       "    <tr>\n",
       "      <th>5</th>\n",
       "      <td>2015/2016</td>\n",
       "      <td>Spain</td>\n",
       "      <td>FC Barcelona</td>\n",
       "      <td>67</td>\n",
       "    </tr>\n",
       "    <tr>\n",
       "      <th>6</th>\n",
       "      <td>2014/2015</td>\n",
       "      <td>Spain</td>\n",
       "      <td>Real Madrid CF</td>\n",
       "      <td>65</td>\n",
       "    </tr>\n",
       "    <tr>\n",
       "      <th>7</th>\n",
       "      <td>2009/2010</td>\n",
       "      <td>Netherlands</td>\n",
       "      <td>Ajax</td>\n",
       "      <td>64</td>\n",
       "    </tr>\n",
       "    <tr>\n",
       "      <th>8</th>\n",
       "      <td>2013/2014</td>\n",
       "      <td>Spain</td>\n",
       "      <td>FC Barcelona</td>\n",
       "      <td>64</td>\n",
       "    </tr>\n",
       "    <tr>\n",
       "      <th>9</th>\n",
       "      <td>2014/2015</td>\n",
       "      <td>Spain</td>\n",
       "      <td>FC Barcelona</td>\n",
       "      <td>64</td>\n",
       "    </tr>\n",
       "    <tr>\n",
       "      <th>13</th>\n",
       "      <td>2008/2009</td>\n",
       "      <td>Spain</td>\n",
       "      <td>FC Barcelona</td>\n",
       "      <td>61</td>\n",
       "    </tr>\n",
       "    <tr>\n",
       "      <th>14</th>\n",
       "      <td>2010/2011</td>\n",
       "      <td>Spain</td>\n",
       "      <td>Real Madrid CF</td>\n",
       "      <td>61</td>\n",
       "    </tr>\n",
       "  </tbody>\n",
       "</table>\n",
       "</div>"
      ],
      "text/plain": [
       "       season      country            team  goals\n",
       "0   2011/2012        Spain    FC Barcelona     73\n",
       "1   2011/2012        Spain  Real Madrid CF     70\n",
       "2   2015/2016        Spain  Real Madrid CF     70\n",
       "4   2012/2013        Spain  Real Madrid CF     67\n",
       "5   2015/2016        Spain    FC Barcelona     67\n",
       "6   2014/2015        Spain  Real Madrid CF     65\n",
       "7   2009/2010  Netherlands            Ajax     64\n",
       "8   2013/2014        Spain    FC Barcelona     64\n",
       "9   2014/2015        Spain    FC Barcelona     64\n",
       "13  2008/2009        Spain    FC Barcelona     61\n",
       "14  2010/2011        Spain  Real Madrid CF     61"
      ]
     },
     "execution_count": 97,
     "metadata": {},
     "output_type": "execute_result"
    }
   ],
   "source": [
    "# using pandas query to view the countries\n",
    "total_goals.query('goals == [61,73,67,64,65,70]')"
   ]
  },
  {
   "cell_type": "code",
   "execution_count": 110,
   "id": "3eec8b72-221f-4aaa-b4af-af885ba0299c",
   "metadata": {},
   "outputs": [
    {
     "data": {
      "text/plain": [
       "Text(0.5, 1.0, 'Highest scoring country across all the seasons')"
      ]
     },
     "execution_count": 110,
     "metadata": {},
     "output_type": "execute_result"
    },
    {
     "data": {
      "image/png": "[encoded data removed]",
      "text/plain": [
       "<Figure size 432x288 with 1 Axes>"
      ]
     },
     "metadata": {},
     "output_type": "display_data"
    }
   ],
   "source": [
    "high_scoring= total_goals.query('goals == [61,73,67,64,65,70]')\n",
    "sns.scatterplot(high_scoring['country'], high_scoring['goals'])\n",
    "plt.title('Highest scoring country across all the seasons')"
   ]
  },
  {
   "cell_type": "markdown",
   "id": "5c94e01c-916c-453d-a47a-d69a29e9aa9e",
   "metadata": {},
   "source": [
    "Spainish teams scored the most across all the seasons."
   ]
  },
  {
   "cell_type": "markdown",
   "id": "27ff5712-441d-4b4c-be7b-c36386abbd37",
   "metadata": {},
   "source": [
    "### Lets further explore by considering the number of stages played, the number of participating teams per season"
   ]
  },
  {
   "cell_type": "code",
   "execution_count": 112,
   "id": "ea9511cf-653d-424d-9593-23299d49e267",
   "metadata": {},
   "outputs": [
    {
     "data": {
      "text/html": [
       "<div>\n",
       "<style scoped>\n",
       "    .dataframe tbody tr th:only-of-type {\n",
       "        vertical-align: middle;\n",
       "    }\n",
       "\n",
       "    .dataframe tbody tr th {\n",
       "        vertical-align: top;\n",
       "    }\n",
       "\n",
       "    .dataframe thead th {\n",
       "        text-align: right;\n",
       "    }\n",
       "</style>\n",
       "<table border=\"1\" class=\"dataframe\">\n",
       "  <thead>\n",
       "    <tr style=\"text-align: right;\">\n",
       "      <th></th>\n",
       "      <th>country</th>\n",
       "      <th>league</th>\n",
       "      <th>season</th>\n",
       "      <th>no_of_stages</th>\n",
       "      <th>no_of_teams</th>\n",
       "      <th>avg_home_goals</th>\n",
       "      <th>avg_away_goals</th>\n",
       "      <th>avg_goals</th>\n",
       "      <th>total_goals</th>\n",
       "    </tr>\n",
       "  </thead>\n",
       "  <tbody>\n",
       "    <tr>\n",
       "      <th>0</th>\n",
       "      <td>Belgium</td>\n",
       "      <td>Belgium Jupiler League</td>\n",
       "      <td>2008/2009</td>\n",
       "      <td>34</td>\n",
       "      <td>16</td>\n",
       "      <td>1.6307</td>\n",
       "      <td>1.1634</td>\n",
       "      <td>2.7941</td>\n",
       "      <td>855</td>\n",
       "    </tr>\n",
       "    <tr>\n",
       "      <th>1</th>\n",
       "      <td>England</td>\n",
       "      <td>England Premier League</td>\n",
       "      <td>2008/2009</td>\n",
       "      <td>38</td>\n",
       "      <td>20</td>\n",
       "      <td>1.4000</td>\n",
       "      <td>1.0789</td>\n",
       "      <td>2.4789</td>\n",
       "      <td>942</td>\n",
       "    </tr>\n",
       "    <tr>\n",
       "      <th>2</th>\n",
       "      <td>France</td>\n",
       "      <td>France Ligue 1</td>\n",
       "      <td>2008/2009</td>\n",
       "      <td>38</td>\n",
       "      <td>20</td>\n",
       "      <td>1.2868</td>\n",
       "      <td>0.9711</td>\n",
       "      <td>2.2579</td>\n",
       "      <td>858</td>\n",
       "    </tr>\n",
       "    <tr>\n",
       "      <th>3</th>\n",
       "      <td>Germany</td>\n",
       "      <td>Germany 1. Bundesliga</td>\n",
       "      <td>2008/2009</td>\n",
       "      <td>34</td>\n",
       "      <td>18</td>\n",
       "      <td>1.6993</td>\n",
       "      <td>1.2222</td>\n",
       "      <td>2.9216</td>\n",
       "      <td>894</td>\n",
       "    </tr>\n",
       "    <tr>\n",
       "      <th>4</th>\n",
       "      <td>Italy</td>\n",
       "      <td>Italy Serie A</td>\n",
       "      <td>2008/2009</td>\n",
       "      <td>38</td>\n",
       "      <td>20</td>\n",
       "      <td>1.5211</td>\n",
       "      <td>1.0789</td>\n",
       "      <td>2.6000</td>\n",
       "      <td>988</td>\n",
       "    </tr>\n",
       "  </tbody>\n",
       "</table>\n",
       "</div>"
      ],
      "text/plain": [
       "   country                  league     season  no_of_stages  no_of_teams  \\\n",
       "0  Belgium  Belgium Jupiler League  2008/2009            34           16   \n",
       "1  England  England Premier League  2008/2009            38           20   \n",
       "2   France          France Ligue 1  2008/2009            38           20   \n",
       "3  Germany   Germany 1. Bundesliga  2008/2009            34           18   \n",
       "4    Italy           Italy Serie A  2008/2009            38           20   \n",
       "\n",
       "   avg_home_goals  avg_away_goals  avg_goals  total_goals  \n",
       "0          1.6307          1.1634     2.7941          855  \n",
       "1          1.4000          1.0789     2.4789          942  \n",
       "2          1.2868          0.9711     2.2579          858  \n",
       "3          1.6993          1.2222     2.9216          894  \n",
       "4          1.5211          1.0789     2.6000          988  "
      ]
     },
     "execution_count": 112,
     "metadata": {},
     "output_type": "execute_result"
    }
   ],
   "source": [
    "stages_df = pd.read_csv('avg&total_goals.csv', names=['country', 'league', 'season', 'no_of_stages', 'no_of_teams',\n",
    "                                                     'avg_home_goals', 'avg_away_goals', 'avg_goals', 'total_goals'])\n",
    "stages_df.head()"
   ]
  },
  {
   "cell_type": "markdown",
   "id": "362050f1-d8d9-4c96-ae6a-0186e7166737",
   "metadata": {},
   "source": [
    "Now, lets have an overview of the dataset"
   ]
  },
  {
   "cell_type": "code",
   "execution_count": 113,
   "id": "ed00c7ea-3bd8-4c88-94da-c9467a645759",
   "metadata": {},
   "outputs": [
    {
     "name": "stdout",
     "output_type": "stream",
     "text": [
      "(88, 9)\n",
      "<class 'pandas.core.frame.DataFrame'>\n",
      "RangeIndex: 88 entries, 0 to 87\n",
      "Data columns (total 9 columns):\n",
      " #   Column          Non-Null Count  Dtype  \n",
      "---  ------          --------------  -----  \n",
      " 0   country         88 non-null     object \n",
      " 1   league          88 non-null     object \n",
      " 2   season          88 non-null     object \n",
      " 3   no_of_stages    88 non-null     int64  \n",
      " 4   no_of_teams     88 non-null     int64  \n",
      " 5   avg_home_goals  88 non-null     float64\n",
      " 6   avg_away_goals  88 non-null     float64\n",
      " 7   avg_goals       88 non-null     float64\n",
      " 8   total_goals     88 non-null     int64  \n",
      "dtypes: float64(3), int64(3), object(3)\n",
      "memory usage: 6.3+ KB\n"
     ]
    }
   ],
   "source": [
    "print(stages_df.shape)\n",
    "stages_df.info()"
   ]
  },
  {
   "cell_type": "code",
   "execution_count": 114,
   "id": "c915e378-5dc1-4ee7-a90c-073da97ae02e",
   "metadata": {},
   "outputs": [
    {
     "data": {
      "text/html": [
       "<div>\n",
       "<style scoped>\n",
       "    .dataframe tbody tr th:only-of-type {\n",
       "        vertical-align: middle;\n",
       "    }\n",
       "\n",
       "    .dataframe tbody tr th {\n",
       "        vertical-align: top;\n",
       "    }\n",
       "\n",
       "    .dataframe thead th {\n",
       "        text-align: right;\n",
       "    }\n",
       "</style>\n",
       "<table border=\"1\" class=\"dataframe\">\n",
       "  <thead>\n",
       "    <tr style=\"text-align: right;\">\n",
       "      <th></th>\n",
       "      <th>no_of_stages</th>\n",
       "      <th>no_of_teams</th>\n",
       "      <th>avg_home_goals</th>\n",
       "      <th>avg_away_goals</th>\n",
       "      <th>avg_goals</th>\n",
       "      <th>total_goals</th>\n",
       "    </tr>\n",
       "  </thead>\n",
       "  <tbody>\n",
       "    <tr>\n",
       "      <th>count</th>\n",
       "      <td>88.000000</td>\n",
       "      <td>88.000000</td>\n",
       "      <td>88.000000</td>\n",
       "      <td>88.000000</td>\n",
       "      <td>88.000000</td>\n",
       "      <td>88.000000</td>\n",
       "    </tr>\n",
       "    <tr>\n",
       "      <th>mean</th>\n",
       "      <td>34.772727</td>\n",
       "      <td>16.670455</td>\n",
       "      <td>1.543081</td>\n",
       "      <td>1.165868</td>\n",
       "      <td>2.708952</td>\n",
       "      <td>798.715909</td>\n",
       "    </tr>\n",
       "    <tr>\n",
       "      <th>std</th>\n",
       "      <td>4.450823</td>\n",
       "      <td>3.590286</td>\n",
       "      <td>0.152944</td>\n",
       "      <td>0.118766</td>\n",
       "      <td>0.243215</td>\n",
       "      <td>213.757245</td>\n",
       "    </tr>\n",
       "    <tr>\n",
       "      <th>min</th>\n",
       "      <td>6.000000</td>\n",
       "      <td>4.000000</td>\n",
       "      <td>1.233300</td>\n",
       "      <td>0.845800</td>\n",
       "      <td>2.183300</td>\n",
       "      <td>30.000000</td>\n",
       "    </tr>\n",
       "    <tr>\n",
       "      <th>25%</th>\n",
       "      <td>34.000000</td>\n",
       "      <td>15.000000</td>\n",
       "      <td>1.449800</td>\n",
       "      <td>1.081600</td>\n",
       "      <td>2.557225</td>\n",
       "      <td>600.500000</td>\n",
       "    </tr>\n",
       "    <tr>\n",
       "      <th>50%</th>\n",
       "      <td>36.000000</td>\n",
       "      <td>18.000000</td>\n",
       "      <td>1.518900</td>\n",
       "      <td>1.160650</td>\n",
       "      <td>2.714450</td>\n",
       "      <td>868.000000</td>\n",
       "    </tr>\n",
       "    <tr>\n",
       "      <th>75%</th>\n",
       "      <td>38.000000</td>\n",
       "      <td>20.000000</td>\n",
       "      <td>1.630925</td>\n",
       "      <td>1.240725</td>\n",
       "      <td>2.862400</td>\n",
       "      <td>978.250000</td>\n",
       "    </tr>\n",
       "    <tr>\n",
       "      <th>max</th>\n",
       "      <td>38.000000</td>\n",
       "      <td>20.000000</td>\n",
       "      <td>1.994400</td>\n",
       "      <td>1.411800</td>\n",
       "      <td>3.327800</td>\n",
       "      <td>1101.000000</td>\n",
       "    </tr>\n",
       "  </tbody>\n",
       "</table>\n",
       "</div>"
      ],
      "text/plain": [
       "       no_of_stages  no_of_teams  avg_home_goals  avg_away_goals  avg_goals  \\\n",
       "count     88.000000    88.000000       88.000000       88.000000  88.000000   \n",
       "mean      34.772727    16.670455        1.543081        1.165868   2.708952   \n",
       "std        4.450823     3.590286        0.152944        0.118766   0.243215   \n",
       "min        6.000000     4.000000        1.233300        0.845800   2.183300   \n",
       "25%       34.000000    15.000000        1.449800        1.081600   2.557225   \n",
       "50%       36.000000    18.000000        1.518900        1.160650   2.714450   \n",
       "75%       38.000000    20.000000        1.630925        1.240725   2.862400   \n",
       "max       38.000000    20.000000        1.994400        1.411800   3.327800   \n",
       "\n",
       "       total_goals  \n",
       "count    88.000000  \n",
       "mean    798.715909  \n",
       "std     213.757245  \n",
       "min      30.000000  \n",
       "25%     600.500000  \n",
       "50%     868.000000  \n",
       "75%     978.250000  \n",
       "max    1101.000000  "
      ]
     },
     "execution_count": 114,
     "metadata": {},
     "output_type": "execute_result"
    }
   ],
   "source": [
    "stages_df.describe()"
   ]
  },
  {
   "cell_type": "code",
   "execution_count": 115,
   "id": "c6cdc25b-794c-4d7b-bdc2-6f3480c7f621",
   "metadata": {},
   "outputs": [
    {
     "name": "stdout",
     "output_type": "stream",
     "text": [
      "checking for null values\n"
     ]
    },
    {
     "data": {
      "text/html": [
       "<div>\n",
       "<style scoped>\n",
       "    .dataframe tbody tr th:only-of-type {\n",
       "        vertical-align: middle;\n",
       "    }\n",
       "\n",
       "    .dataframe tbody tr th {\n",
       "        vertical-align: top;\n",
       "    }\n",
       "\n",
       "    .dataframe thead th {\n",
       "        text-align: right;\n",
       "    }\n",
       "</style>\n",
       "<table border=\"1\" class=\"dataframe\">\n",
       "  <thead>\n",
       "    <tr style=\"text-align: right;\">\n",
       "      <th></th>\n",
       "      <th>Total</th>\n",
       "      <th>%</th>\n",
       "    </tr>\n",
       "  </thead>\n",
       "  <tbody>\n",
       "    <tr>\n",
       "      <th>country</th>\n",
       "      <td>0</td>\n",
       "      <td>0.0</td>\n",
       "    </tr>\n",
       "    <tr>\n",
       "      <th>league</th>\n",
       "      <td>0</td>\n",
       "      <td>0.0</td>\n",
       "    </tr>\n",
       "    <tr>\n",
       "      <th>season</th>\n",
       "      <td>0</td>\n",
       "      <td>0.0</td>\n",
       "    </tr>\n",
       "    <tr>\n",
       "      <th>no_of_stages</th>\n",
       "      <td>0</td>\n",
       "      <td>0.0</td>\n",
       "    </tr>\n",
       "    <tr>\n",
       "      <th>no_of_teams</th>\n",
       "      <td>0</td>\n",
       "      <td>0.0</td>\n",
       "    </tr>\n",
       "    <tr>\n",
       "      <th>avg_home_goals</th>\n",
       "      <td>0</td>\n",
       "      <td>0.0</td>\n",
       "    </tr>\n",
       "    <tr>\n",
       "      <th>avg_away_goals</th>\n",
       "      <td>0</td>\n",
       "      <td>0.0</td>\n",
       "    </tr>\n",
       "    <tr>\n",
       "      <th>avg_goals</th>\n",
       "      <td>0</td>\n",
       "      <td>0.0</td>\n",
       "    </tr>\n",
       "    <tr>\n",
       "      <th>total_goals</th>\n",
       "      <td>0</td>\n",
       "      <td>0.0</td>\n",
       "    </tr>\n",
       "  </tbody>\n",
       "</table>\n",
       "</div>"
      ],
      "text/plain": [
       "                Total    %\n",
       "country             0  0.0\n",
       "league              0  0.0\n",
       "season              0  0.0\n",
       "no_of_stages        0  0.0\n",
       "no_of_teams         0  0.0\n",
       "avg_home_goals      0  0.0\n",
       "avg_away_goals      0  0.0\n",
       "avg_goals           0  0.0\n",
       "total_goals         0  0.0"
      ]
     },
     "execution_count": 115,
     "metadata": {},
     "output_type": "execute_result"
    }
   ],
   "source": [
    "print('checking for null values')\n",
    "null = stages_df.isnull().sum().sort_values(ascending=False)\n",
    "n1 = stages_df.isnull().sum()/stages_df.isnull().count()*100\n",
    "n2 = (np.round(n1, 1)).sort_values(ascending=False)\n",
    "missing_val = pd.concat([null, n2], axis=1, keys=['Total', '%'])\n",
    "missing_val"
   ]
  },
  {
   "cell_type": "code",
   "execution_count": 121,
   "id": "71c2201f-eceb-4a8f-bb02-152b4f0ade64",
   "metadata": {},
   "outputs": [
    {
     "data": {
      "text/plain": [
       "season\n",
       "2008/2009    182\n",
       "2009/2010    185\n",
       "2010/2011    184\n",
       "2011/2012    184\n",
       "2012/2013    186\n",
       "2013/2014    174\n",
       "2014/2015    188\n",
       "2015/2016    184\n",
       "Name: no_of_teams, dtype: int64"
      ]
     },
     "execution_count": 121,
     "metadata": {},
     "output_type": "execute_result"
    }
   ],
   "source": [
    "# number of participating teams per season\n",
    "stages_df.groupby('season')['no_of_teams'].sum()"
   ]
  },
  {
   "cell_type": "markdown",
   "id": "e0bf20b1-f753-4682-8ef7-5b496acd2e13",
   "metadata": {},
   "source": [
    "The `2014/2015` season had the highest number of participating teams"
   ]
  },
  {
   "cell_type": "code",
   "execution_count": 122,
   "id": "8627f3d1-c9a0-4d7b-84a1-eb58fcdf3da7",
   "metadata": {},
   "outputs": [
    {
     "data": {
      "text/plain": [
       "season\n",
       "2008/2009    35.272727\n",
       "2009/2010    34.909091\n",
       "2010/2011    34.909091\n",
       "2011/2012    34.909091\n",
       "2012/2013    34.909091\n",
       "2013/2014    32.727273\n",
       "2014/2015    35.272727\n",
       "2015/2016    35.272727\n",
       "Name: no_of_stages, dtype: float64"
      ]
     },
     "execution_count": 122,
     "metadata": {},
     "output_type": "execute_result"
    }
   ],
   "source": [
    "# average no of stages per season\n",
    "stages_df.groupby('season')['no_of_stages'].mean()"
   ]
  },
  {
   "cell_type": "code",
   "execution_count": 123,
   "id": "58c9d36a-b01c-4bd0-8974-e6525fd910d6",
   "metadata": {},
   "outputs": [
    {
     "data": {
      "text/plain": [
       "season\n",
       "2008/2009    28.6798\n",
       "2009/2010    29.5554\n",
       "2010/2011    29.5740\n",
       "2011/2012    29.7620\n",
       "2012/2013    30.4369\n",
       "2013/2014    30.2006\n",
       "2014/2015    29.5728\n",
       "2015/2016    30.6063\n",
       "Name: avg_goals, dtype: float64"
      ]
     },
     "execution_count": 123,
     "metadata": {},
     "output_type": "execute_result"
    }
   ],
   "source": [
    "# average goals scored by season\n",
    "stages_df.groupby('season')['avg_goals'].sum()"
   ]
  },
  {
   "cell_type": "markdown",
   "id": "9d8e8f0a-137b-4f31-ac89-e08d7d3e9c63",
   "metadata": {},
   "source": [
    "<a id='conclusions'></a>\n",
    "## Conclusions\n",
    "\n",
    "So here comes the end of the first project of the Data Analyst Nanodegree program where I put to use the various things I was thought in the data analysis process to extract, clean, wrangle and visualize various datasets. I also made use of SQL for joining various columns and data in order to simplify the datasets. The insights I also got each analysis has been summarized under the  notebook cell. However, I couldn't interpret the dataset available for the players as the given attributes where not clearly explained caused me to skip the players analysis. "
   ]
  }
 ],
 "metadata": {
  "kernelspec": {
   "display_name": "Python 3 (ipykernel)",
   "language": "python",
   "name": "python3"
  },
  "language_info": {
   "codemirror_mode": {
    "name": "ipython",
    "version": 3
   },
   "file_extension": ".py",
   "mimetype": "text/x-python",
   "name": "python",
   "nbconvert_exporter": "python",
   "pygments_lexer": "ipython3",
   "version": "3.9.12"
  }
 },
 "nbformat": 4,
 "nbformat_minor": 5
}
